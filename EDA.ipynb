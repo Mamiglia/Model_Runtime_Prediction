{
 "cells": [
  {
   "cell_type": "markdown",
   "id": "0ca3013b-17f3-4443-9ac3-b3710da02dc4",
   "metadata": {},
   "source": [
    "# Exploratory Data Analysis\n",
    "We first want to understand how data is shaped and how we can intreract with it. Then we want to understnd what's the goal of the competition.\n",
    "\n",
    "Sources:\n",
    "- https://github.com/google-research-datasets/tpu_graphs\n",
    "- https://arxiv.org/abs/2308.13490\n",
    "\n",
    "## Data Shape\n",
    "The data is divided in two parts:\n",
    "- `layout:*`\n",
    "- `tile:xla`\n",
    "  \n",
    "Each of them can be considered as a graph representing a TPU/NN model (or a subpart of it) which needs to be trained, and each of them comes in a number of different configurations, each with the runtime that the model takes to be trained  (target) given that model and that specific configuration. \n",
    "This two parts have different features and are basically two distinct problems, but in both of them the goal is to predict which of the different configurations is the fastest to run."
   ]
  },
  {
   "cell_type": "markdown",
   "id": "0dba0b43-ba35-4dc3-b0ab-b3c2ccfcf726",
   "metadata": {},
   "source": [
    "How many graphs of each kind do we have?"
   ]
  },
  {
   "cell_type": "code",
   "execution_count": 1,
   "id": "3223d66d-7233-426b-b2ca-eca2abae7c6f",
   "metadata": {
    "scrolled": true
   },
   "outputs": [
    {
     "name": "stdout",
     "output_type": "stream",
     "text": [
      "  -tpugraphs\n",
      "    -tile\n",
      "      -xla\n",
      "        -train: 5709\n",
      "        -test: 844\n",
      "        -valid: 676\n",
      "    -layout\n",
      "      -xla\n",
      "        -default\n",
      "          -train: 61\n",
      "          -test: 8\n",
      "          -valid: 7\n",
      "        -random\n",
      "          -train: 69\n",
      "          -test: 8\n",
      "          -valid: 7\n",
      "      -nlp\n",
      "        -default\n",
      "          -train: 198\n",
      "          -test: 17\n",
      "          -valid: 20\n",
      "        -random\n",
      "          -train: 207\n",
      "          -test: 17\n",
      "          -valid: 20\n"
     ]
    }
   ],
   "source": [
    "import os\n",
    "import pandas as pd\n",
    "import numpy as np\n",
    "\n",
    "for (dirpath, dirnames, filenames) in os.walk('data/tpugraphs'):\n",
    "    depth = dirpath.count('/')\n",
    "    dirname = dirpath.split('/')[-1]\n",
    "    if len(filenames) == 0:\n",
    "        print('  '*depth + '-'+ dirname)\n",
    "    else:\n",
    "        print('  '*depth + '-'+ dirname + ': ' + str(len(filenames)))"
   ]
  },
  {
   "cell_type": "markdown",
   "id": "985d440b-e7cd-424a-8117-c3c275bb7b82",
   "metadata": {},
   "source": [
    "We can now look at how each sample (graph) is structered, remeber that whe are talking of with `n` nodes, `m` edges and `c` possible configurations. Each of them is a dictionary of numpy arrays, where:\n",
    "- `edge_index` $2 \\times m$: it's the Adjacency List of edges, where if the i-th entry is [u,v] than it means that there is a directed edge from u to v, **meaning** that the node $u$ consumes the output of node $v$.\n",
    "- `node_opcode` (n, ): The uth entry stores the op-code for node u, referring to which operation is this node performing (later we'll map this integer code to the actual operation).\n",
    "- `node_feat` (n, 140): The uth row contains the feature vector for node u. This \"features\" describe for example the dimensions sizes of the operation, or if it's a convolution the size of window, stride, padding etc...\n",
    "- `config_feat` (c, 24): with row j containing the (graph-level) configuration feature vector. This features are instead specific to the configuration, and are like ???\n",
    "\n",
    "Now let's look at an example:"
   ]
  },
  {
   "cell_type": "code",
   "execution_count": 2,
   "id": "497326ad-799d-4492-ad92-875d72bee36a",
   "metadata": {},
   "outputs": [
    {
     "data": {
      "text/plain": [
       "{'node_feat': array([[0., 0., 0., ..., 1., 0., 0.],\n",
       "        [1., 0., 0., ..., 1., 0., 0.],\n",
       "        [0., 0., 0., ..., 1., 0., 0.],\n",
       "        ...,\n",
       "        [0., 0., 0., ..., 1., 0., 0.],\n",
       "        [0., 0., 0., ..., 1., 0., 0.],\n",
       "        [1., 0., 0., ..., 0., 0., 0.]], dtype=float32),\n",
       " 'node_opcode': array([63, 11, 63, 11, 63, 63, 41, 63, 41, 26, 24, 13, 83, 63, 63, 63, 41],\n",
       "       dtype=uint8),\n",
       " 'edge_index': array([[ 1,  0],\n",
       "        [ 3,  2],\n",
       "        [ 6,  1],\n",
       "        [ 6,  5],\n",
       "        [ 8,  3],\n",
       "        [ 8,  7],\n",
       "        [ 9,  6],\n",
       "        [ 9,  8],\n",
       "        [11, 10],\n",
       "        [12,  4],\n",
       "        [12,  9],\n",
       "        [12, 11],\n",
       "        [16, 12],\n",
       "        [16, 13],\n",
       "        [16, 14],\n",
       "        [16, 15]]),\n",
       " 'config_feat': array([[25., 25.,  1., ...,  0.,  0.,  0.],\n",
       "        [ 2.,  1.,  1., ...,  0.,  0.,  0.],\n",
       "        [ 7.,  1.,  1., ...,  0.,  0.,  0.],\n",
       "        ...,\n",
       "        [ 9., 25.,  1., ...,  0.,  0.,  0.],\n",
       "        [25.,  9.,  1., ...,  0.,  0.,  0.],\n",
       "        [13., 25.,  1., ...,  0.,  0.,  0.]], dtype=float32),\n",
       " 'config_runtime': array([  989355, 47702414,  9689604, ...,  1509691,  1206771,  1174518]),\n",
       " 'config_runtime_normalizers': array([989355, 989355, 989355, ..., 989500, 989500, 989500])}"
      ]
     },
     "execution_count": 2,
     "metadata": {},
     "output_type": "execute_result"
    }
   ],
   "source": [
    "load = lambda file: dict(np.load(file))\n",
    "\n",
    "example=load(\"data/tpugraphs/tile/xla/train/mlperf_ssd_2_shard_batch_8_fast_epoch_fe3d25cfab3c3aa.npz\")\n",
    "example"
   ]
  },
  {
   "cell_type": "markdown",
   "id": "9e57802e-5c59-4e6f-bade-010e8f26c627",
   "metadata": {},
   "source": [
    "We can visualize one of this graphs: remember that an edge from u to v means that **the output of v is consumed by u**. This is a bit counter intuitive at first, but you can imagine it as a dependency graph (maybe)."
   ]
  },
  {
   "cell_type": "code",
   "execution_count": 79,
   "id": "086aa800-d0bf-413e-bce0-f76156e459b9",
   "metadata": {},
   "outputs": [
    {
     "data": {
      "image/png": "[encoded data removed]",
      "text/plain": [
       "<Figure size 640x480 with 1 Axes>"
      ]
     },
     "metadata": {},
     "output_type": "display_data"
    }
   ],
   "source": [
    "import networkx as nx\n",
    "\n",
    "adj_list = example['edge_index']\n",
    "\n",
    "adj_list_nx_readable = [np.array2string(adj_list[m])[1:-1] for m in range(adj_list.shape[0])]\n",
    "\n",
    "graph = nx.parse_adjlist(adj_list_nx_readable, create_using=nx.DiGraph)\n",
    "\n",
    "pos = nx.nx_agraph.graphviz_layout(graph, prog=\"twopi\", args=\"\")\n",
    "nx.draw(graph, pos)"
   ]
  },
  {
   "cell_type": "markdown",
   "id": "69908453-a639-483e-800f-94adf2727966",
   "metadata": {},
   "source": [
    "Now we can attach the operation performed by each node and visualize it.\n",
    "\n",
    "Notice that all the nodes without outgoing edges are the ones where the computation starts and they are all \"parameter\" (aka input) or \"constant\". Then we see that instead the \"real\" operations inside are in this case \"bitcast\", \"fusion\", \"convolution\", \"broadcast\", \"select\"."
   ]
  },
  {
   "cell_type": "code",
   "execution_count": 81,
   "id": "c367c93f-fe65-4909-a055-6f7203468cf4",
   "metadata": {},
   "outputs": [],
   "source": [
    "OPCODE_MAP = {\n",
    "    1: 'abs',  # Computes the absolute value of the input.\n",
    "    2: 'add',  # Adds two input values.\n",
    "    3: 'add-dependency',  # Specifies a dependency between operations.\n",
    "    4: 'after-all',  # Specifies that an operation should execute after all previous operations are completed.\n",
    "    5: 'all-reduce',  # Performs an all-reduce operation, often used for distributed computing.\n",
    "    6: 'all-to-all',  # Performs an all-to-all communication operation.\n",
    "    7: 'atan2',  # Computes the element-wise arctangent of two input values.\n",
    "    8: 'batch-norm-grad',  # Computes gradients for batch normalization.\n",
    "    9: 'batch-norm-inference',  # Performs batch normalization during inference.\n",
    "    10: 'batch-norm-training',  # Performs batch normalization during training.\n",
    "    11: 'bitcast',  # Converts the input to a different data type using bit manipulation.\n",
    "    12: 'bitcast-convert',  # Converts data types using bit manipulation.\n",
    "    13: 'broadcast',  # Broadcasts input values to match the shape of another tensor.\n",
    "    14: 'call',  # Calls a function or operation.\n",
    "    15: 'ceil',  # Computes the ceiling of input values (rounds up to the nearest integer).\n",
    "    16: 'cholesky',  # Computes the Cholesky decomposition of a matrix.\n",
    "    17: 'clamp',  # Clamps input values to a specified range.\n",
    "    18: 'collective-permute',  # Performs a collective permutation operation.\n",
    "    19: 'count-leading-zeros',  # Counts the number of leading zeros in binary representation.\n",
    "    20: 'compare',  # Compares input values element-wise.\n",
    "    21: 'complex',  # Creates complex numbers from real and imaginary parts.\n",
    "    22: 'concatenate',  # Concatenates tensors along a specified axis.\n",
    "    23: 'conditional',  # Implements a conditional operation.\n",
    "    24: 'constant',  # Defines a constant tensor with a specified value.\n",
    "    25: 'convert',  # Converts data types.\n",
    "    26: 'convolution',  # Performs convolution operation, often used in image processing.\n",
    "    27: 'copy',  # Copies data from one location to another.\n",
    "    28: 'copy-done',  # Indicates the completion of a data copy operation.\n",
    "    29: 'copy-start',  # Indicates the start of a data copy operation.\n",
    "    30: 'cosine',  # Computes the cosine of input values.\n",
    "    31: 'custom-call',  # Invokes a custom-defined function or operation.\n",
    "    32: 'divide',  # Divides one input value by another.\n",
    "    33: 'domain',  # Defines the domain or context for an operation.\n",
    "    34: 'dot',  # Computes the dot product of two tensors.\n",
    "    35: 'dynamic-slice',  # Dynamically slices a tensor based on input indices.\n",
    "    36: 'dynamic-update-slice',  # Dynamically updates a slice of a tensor.\n",
    "    37: 'exponential',  # Computes the exponential of input values.\n",
    "    38: 'exponential-minus-one',  # Computes exp(x) - 1 for input values.\n",
    "    39: 'fft',  # Computes the Fast Fourier Transform of input data.\n",
    "    40: 'floor',  # Computes the floor of input values (rounds down to the nearest integer).\n",
    "    41: 'fusion',  # Performs fusion of multiple operations into a single operation.\n",
    "    42: 'gather',  # Gathers values from a tensor based on input indices.\n",
    "    43: 'get-dimension-size',  # Retrieves the size of a specific dimension of a tensor.\n",
    "    44: 'set-dimension-size',  # Sets the size of a specific dimension of a tensor.\n",
    "    45: 'get-tuple-element',  # Retrieves an element from a tuple.\n",
    "    46: 'imag',  # Retrieves the imaginary part of complex numbers.\n",
    "    47: 'infeed',  # Performs an infeed operation, often used in data pipelines.\n",
    "    48: 'iota',  # Generates a range of values from a starting value.\n",
    "    49: 'is-finite',  # Checks if input values are finite.\n",
    "    50: 'log',  # Computes the natural logarithm of input values.\n",
    "    51: 'log-plus-one',  # Computes log(x + 1) for input values.\n",
    "    52: 'and',  # Performs a bitwise AND operation element-wise.\n",
    "    53: 'not',  # Performs a bitwise NOT operation element-wise.\n",
    "    54: 'or',  # Performs a bitwise OR operation element-wise.\n",
    "    55: 'xor',  # Performs a bitwise XOR operation element-wise.\n",
    "    56: 'map',  # Applies a function or operation to each element of a tensor.\n",
    "    57: 'maximum',  # Computes the element-wise maximum of two input values.\n",
    "    58: 'minimum',  # Computes the element-wise minimum of two input values.\n",
    "    59: 'multiply',  # Multiplies two input values element-wise.\n",
    "    60: 'negate',  # Negates input values element-wise.\n",
    "    61: 'outfeed',  # Performs an outfeed operation, often used in data pipelines.\n",
    "    62: 'pad',  # Pads a tensor with zeros or a specified value.\n",
    "    63: 'parameter',  # Specifies a parameter for an operation.\n",
    "    64: 'partition-id',  # Retrieves the ID of a partition.\n",
    "    65: 'popcnt',  # Computes the population count (number of set bits) in binary representation.\n",
    "    66: 'power',  # Computes the power (exponentiation) of input values.\n",
    "    67: 'real',  # Retrieves the real part of complex numbers.\n",
    "    68: 'recv',  # Receives data as part of a communication operation.\n",
    "    69: 'recv-done',  # Indicates the completion of a receive operation.\n",
    "    70: 'reduce',  # Performs a reduction operation.\n",
    "    71: 'reduce-precision',  # Specifies the precision for reduction operations.\n",
    "    72: 'reduce-window',  # Performs reduction with a specified window size.\n",
    "    73: 'remainder',  # Computes the remainder of division between two input values.\n",
    "    74: 'replica-id',  # Retrieves the ID of a replica.\n",
    "    75: 'reshape',  # Reshapes a tensor to a specified shape.\n",
    "    76: 'reverse',  # Reverses the order of elements in a tensor.\n",
    "    77: 'rng',  # Initializes a random number generator.\n",
    "    78: 'rng-get-and-update-state',  # Retrieves and updates the state of a random number generator.\n",
    "    79: 'rng-bit-generator',  # Generates random bits using a random number generator.\n",
    "    80: 'round-nearest-afz',  # Rounds to the nearest value using the \"away-from-zero\" rounding mode.\n",
    "    81: 'rsqrt',  # Computes the reciprocal square root (1/sqrt(x)) of input values.\n",
    "    82: 'scatter',  # Scatters values into a tensor based on input indices.\n",
    "    83: 'select',  # Selects elements from two tensors based on a condition.\n",
    "    84: 'select-and-scatter',  # Combines select and scatter operations.\n",
    "    85: 'send',  # Sends data as part of a communication operation.\n",
    "    86: 'send-done',  # Indicates the completion of a send operation.\n",
    "    87: 'shift-left',  # Shifts bits to the left element-wise.\n",
    "    88: 'shift-right-arithmetic',  # Shifts bits to the right with sign extension.\n",
    "    89: 'shift-right-logical',  # Shifts bits to the right with zero extension.\n",
    "    90: 'sign',  # Computes the sign of input values.\n",
    "    91: 'sine',  # Computes the sine of input values.\n",
    "    92: 'slice',  # Slices a tensor based on specified indices or ranges.\n",
    "    93: 'sort',  # Sorts input values.\n",
    "    94: 'sqrt',  # Computes the square root of input values.\n",
    "    95: 'subtract',  # Subtracts one input value from another element-wise.\n",
    "    96: 'tanh',  # Computes the hyperbolic tangent of input values.\n",
    "    98: 'transpose',  # Transposes a tensor, swapping dimensions.\n",
    "    99: 'triangular-solve',  # Solves a triangular system of linear equations.\n",
    "    100: 'tuple',  # Represents a tuple of values.\n",
    "    102: 'while',  # Implements a while loop.\n",
    "    103: 'cbrt',  # Computes the cube root of input values.\n",
    "    104: 'all-gather',  # Gathers data from all replicas in a distributed system.\n",
    "    105: 'collective-permute-start',  # Initiates a collective permutation operation.\n",
    "    106: 'collective-permute-done',  # Indicates the completion of a collective permutation operation.\n",
    "    107: 'logistic',  # Computes the logistic function (sigmoid) of input values.\n",
    "    108: 'dynamic-reshape',  # Dynamically reshapes a tensor based on input values.\n",
    "    109: 'all-reduce-start',  # Initiates an all-reduce operation.\n",
    "    110: 'all-reduce-done',  # Indicates the completion of an all-reduce operation.\n",
    "    111: 'reduce-scatter',  # Performs a reduce-scatter operation.\n",
    "    112: 'all-gather-start',  # Initiates an all-gather operation.\n",
    "    113: 'all-gather-done',  # Indicates the completion of an all-gather operation.\n",
    "    114: 'opt-barrier',  # Implements a barrier for optimization purposes.\n",
    "    115: 'async-start',  # Initiates an asynchronous operation.\n",
    "    116: 'async-update',  # Updates the state of an asynchronous operation.\n",
    "    117: 'async-done',  # Indicates the completion of an asynchronous operation.\n",
    "    118: 'round-nearest-even',  # Rounds to the nearest value using \"round half to even\" rounding.\n",
    "    119: 'stochastic-convert',  # Converts values using stochastic rounding.\n",
    "    120: 'tan',  # Computes the tangent of input values.\n",
    "}"
   ]
  },
  {
   "cell_type": "code",
   "execution_count": 80,
   "id": "d22f53ba-e289-464b-a357-37877af6809b",
   "metadata": {},
   "outputs": [
    {
     "data": {
      "image/png": "[encoded data removed]",
      "text/plain": [
       "<Figure size 640x480 with 1 Axes>"
      ]
     },
     "metadata": {},
     "output_type": "display_data"
    }
   ],
   "source": [
    "operations = {str(i):OPCODE_MAP[opc] for i,opc in enumerate(example['node_opcode'])}\n",
    "\n",
    "nx.draw_networkx(graph, pos=pos, with_labels=False)\n",
    "nx.draw_networkx_labels(graph, pos=pos, labels = operations);"
   ]
  },
  {
   "cell_type": "markdown",
   "id": "cbbb50f0-2b6c-45ab-9950-2a4794238ec7",
   "metadata": {},
   "source": [
    "Later when we'll start designing and engineering the features we must consider the operations that each node has, on the assumption that different operations have different impacts on the model runtime. For example a convolution is for sure an operation heavier than a broadcast.\n",
    "\n",
    "All this `_sum` and `_product` features are respectively the sum and the product of the features. For example the `shape_dimensions_sum` is the sum of all the `shape_dimensions`."
   ]
  },
  {
   "cell_type": "code",
   "execution_count": 95,
   "id": "36be74c5-1855-4262-b307-f63e855857e6",
   "metadata": {},
   "outputs": [],
   "source": [
    "NODE_FEATS = {\n",
    "    0: \"is_root\", # - whether this node is the output\",\n",
    "    1: \"element_size_in_bits\", # - deprecated, always 0\",\n",
    "    # 2–20: \"One hot vector of shape_element_type.\",\n",
    "    2: \"shape_element_type_is_invalid_type\",\n",
    "    3: \"shape_element_type_is_pred\",\n",
    "    4: \"shape_element_type_is_s8\",\n",
    "    5: \"shape_element_type_is_s16\",\n",
    "    6: \"shape_element_type_is_s32\",\n",
    "    7: \"shape_element_type_is_s64\",\n",
    "    8: \"shape_element_type_is_u8\",\n",
    "    9: \"shape_element_type_is_u16\",\n",
    "    10: \"shape_element_type_is_u32\",\n",
    "    11: \"shape_element_type_is_u64\",\n",
    "    12: \"shape_element_type_is_f16\",\n",
    "    13: \"shape_element_type_is_f32\",\n",
    "    14: \"shape_element_type_is_f64\",\n",
    "    15: \"shape_element_type_is_bf16\",\n",
    "    16: \"shape_element_type_is_c64\",\n",
    "    17: \"shape_element_type_is_c128\",\n",
    "    18: \"shape_element_type_is_tuple\",\n",
    "    19: \"shape_element_type_is_opaque_type\",\n",
    "    20: \"shape_element_type_is_token\",\n",
    "    # 21–28: \"Size (number of elements) for each dimension, or an upper bound on the size if the dimension is dynamic.  In XLA, dimensions are numbered from 0 to N-1 for an N-dimensional array. The first element of 'shape_dimensions' is the size of dimension 0, the second element is the size of dimension 1, and so forth.  Empty list indicates a scalar.\",\n",
    "    21: \"shape_dimensions_0\",\n",
    "    22: \"shape_dimensions_1\",\n",
    "    23: \"shape_dimensions_2\",\n",
    "    24: \"shape_dimensions_3\",\n",
    "    25: \"shape_dimensions_4\",\n",
    "    26: \"shape_dimensions_5\",\n",
    "    27: \"shape_dimensions_sum\",\n",
    "    28: \"shape_dimensions_product\",\n",
    "    29: \"shape_tuple_shapes_size\", # for tuples only, the shapes of constituent shapes in the tuple sequence\",\n",
    "    30: \"parameter_number\", # = K - indicating that is is the Kth parameter to the computation, only for Parameter operation\",\n",
    "    # 31–36: \"Dimensions present for some operations that require reshaping or broadcasting, including Reshape, Reduce, ReduceWindow, and Reverse.\",\n",
    "    31: \"dimensions_0\",\n",
    "    32: \"dimensions_1\",\n",
    "    33: \"dimensions_2\",\n",
    "    34: \"dimensions_3\",\n",
    "    35: \"dimensions_4\",\n",
    "    36: \"dimensions_5\",\n",
    "    # 37–92: \"Windowing information in an operation such as convolution. The window is moved across a base area and for each position of the window a computation is performed.\",\n",
    "    37: \"window_size_0\",\n",
    "    38: \"window_size_1\",\n",
    "    39: \"window_size_2\",\n",
    "    40: \"window_size_3\",\n",
    "    41: \"window_size_4\",\n",
    "    42: \"window_size_5\",\n",
    "    43: \"window_size_sum\",\n",
    "    44: \"window_size_product\",\n",
    "    45: \"window_stride_0\",\n",
    "    46: \"window_stride_1\",\n",
    "    47: \"window_stride_2\",\n",
    "    48: \"window_stride_3\",\n",
    "    49: \"window_stride_4\",\n",
    "    50: \"window_stride_5\",\n",
    "    51: \"window_stride_sum\",\n",
    "    52: \"window_stride_product\",\n",
    "    53: \"window_padding_low_0\",\n",
    "    54: \"window_padding_low_1\",\n",
    "    55: \"window_padding_low_2\",\n",
    "    56: \"window_padding_low_3\",\n",
    "    57: \"window_padding_low_4\",\n",
    "    58: \"window_padding_low_5\",\n",
    "    59: \"window_padding_low_sum\",\n",
    "    60: \"window_padding_low_product\",\n",
    "    61: \"window_padding_high_0\",\n",
    "    62: \"window_padding_high_1\",\n",
    "    63: \"window_padding_high_2\",\n",
    "    64: \"window_padding_high_3\",\n",
    "    65: \"window_padding_high_4\",\n",
    "    66: \"window_padding_high_5\",\n",
    "    67: \"window_padding_high_sum\",\n",
    "    68: \"window_padding_high_product\",\n",
    "    # 69–76: \"Dilation factor of the sliding window. A dilation factor of 1 means no dilation. window_dilation - 1 no-op entries (\"holes\") are implicitly placed between each kernel element.\",\n",
    "    69: \"window_window_dilation_0\",\n",
    "    70: \"window_window_dilation_1\",\n",
    "    71: \"window_window_dilation_2\",\n",
    "    72: \"window_window_dilation_3\",\n",
    "    73: \"window_window_dilation_4\",\n",
    "    74: \"window_window_dilation_5\",\n",
    "    75: \"window_window_dilation_sum\",\n",
    "    76: \"window_window_dilation_product\",\n",
    "    # 77-84: \"Dilation factor of the base area. A dilation factor of 1 means no dilation. base_dilation - 1 no-op entries (\"holes\") are implicitly placed between each base area element.\",\n",
    "    77: \"window_base_dilation_0\",\n",
    "    78: \"window_base_dilation_1\",\n",
    "    79: \"window_base_dilation_2\",\n",
    "    80: \"window_base_dilation_3\",\n",
    "    81: \"window_base_dilation_4\",\n",
    "    82: \"window_base_dilation_5\",\n",
    "    83: \"window_base_dilation_sum\",\n",
    "    84: \"window_base_dilation_product\",\n",
    "    # 85-92: \"Window reversal means that this dimension was logically reversed before the operation.\",\n",
    "    85: \"window_window_reversal_0\",\n",
    "    86: \"window_window_reversal_1\",\n",
    "    87: \"window_window_reversal_2\",\n",
    "    88: \"window_window_reversal_3\",\n",
    "    89: \"window_window_reversal_4\",\n",
    "    90: \"window_window_reversal_5\",\n",
    "    91: \"window_window_reversal_true_count\",\n",
    "    92: \"window_window_reversal_false_count\",\n",
    "    # 93–106: \"The dimension numbers used for a convolution.\",\n",
    "    93: \"convolution_dim_numbers_input_batch_dim\",# - the dimension number that represents batch in the input\",\n",
    "    94: \"convolution_dim_numbers_input_feature_dim\",# - the dimension number that represents features in the input\",\n",
    "    # 95–98: \"Dimension numbers for the spatial dimensions that the window moves through in the input.\",\n",
    "    95: \"convolution_dim_numbers_input_spatial_dims_0\",\n",
    "    96: \"convolution_dim_numbers_input_spatial_dims_1\",\n",
    "    97: \"convolution_dim_numbers_input_spatial_dims_2\",\n",
    "    98: \"convolution_dim_numbers_input_spatial_dims_3\",\n",
    "    99: \"convolution_dim_numbers_kernel_input_feature_dim\", # - the dimension number that represents input features in the convolutional kernel (rhs)\",\n",
    "    100: \"convolution_dim_numbers_kernel_output_feature_dim\", # - the dimension number that represents output features in the convolutional kernel (rhs)\",\n",
    "    # 101-104: \"Dimension numbers for the spatial dimensions that the window moves through in the kernel (rhs). window.strides(0) is the stride in the kernel_spatial_dimensions(0) dimension.\",\n",
    "    101: \"convolution_dim_numbers_kernel_spatial_dims_0\",\n",
    "    102: \"convolution_dim_numbers_kernel_spatial_dims_1\",\n",
    "    103: \"convolution_dim_numbers_kernel_spatial_dims_2\",\n",
    "    104: \"convolution_dim_numbers_kernel_spatial_dims_3\",\n",
    "    105: \"convolution_dim_numbers_output_batch_dim\", # - the dimension number that represents batch in the output\",\n",
    "    106: \"convolution_dim_numbers_output_feature_dim\", # - the dimension number that represents features in the output\",\n",
    "    107: \"feature_group_count\", # - the number of feature groups, used for a convolution. Must be a divisor of the input feature dimension and output feature dimension. If not specified, it will use a default value of 1.\",\n",
    "    108: \"batch_group_count\", # - the number of batch groups, used for a convolution.\",\n",
    "    # 109–120: \"[begin/start, end/limit) index range and stride for a slice operation.\",\n",
    "    109: \"slice_dims_start_0\",\n",
    "    110: \"slice_dims_start_1\",\n",
    "    111: \"slice_dims_start_sum\",\n",
    "    112: \"slice_dims_start_product\",\n",
    "    113: \"slice_dims_stride_0\",\n",
    "    114: \"slice_dims_stride_1\",\n",
    "    115: \"slice_dims_stride_sum\",\n",
    "    116: \"slice_dims_stride_product\",\n",
    "    117: \"slice_dims_limit_0\",\n",
    "    118: \"slice_dims_limit_1\",\n",
    "    119: \"slice_dims_limit_sum\",\n",
    "    120: \"slice_dims_limit_product\",\n",
    "    # 121 - 124: \"[start, start + size) range size for a dynamic slice ('start' is specified dynamically in the second operand of the operation).\",\n",
    "    121: \"dynamic_slice_sizes_0\",\n",
    "    122: \"dynamic_slice_sizes_1\",\n",
    "    123: \"dynamic_slice_sizes_sum\",\n",
    "    124: \"dynamic_slice_sizes_product\",\n",
    "    # 125–132: \"Padding configuration that describes the edge padding of a pad operation.\",\n",
    "    125: \"padding_config_edge_padding_low_0\",\n",
    "    126: \"padding_config_edge_padding_low_1\",\n",
    "    127: \"padding_config_edge_padding_low_sum\",\n",
    "    128: \"padding_config_edge_padding_low_product\",\n",
    "    129: \"padding_config_edge_padding_high_0\",\n",
    "    130: \"padding_config_edge_padding_high_1\",\n",
    "    131: \"padding_config_edge_padding_high_sum\",\n",
    "    132: \"padding_config_edge_padding_high_product\",\n",
    "    133: \"is_stable\", # - whether this Sort operation should be stable\",\n",
    "    # 134–139: \"Physical layout used to pack the tensor shape.\",\n",
    "    134: \"layout_minor_to_major_0\",\n",
    "    135: \"layout_minor_to_major_1\",\n",
    "    136: \"layout_minor_to_major_2\",\n",
    "    137: \"layout_minor_to_major_3\",\n",
    "    138: \"layout_minor_to_major_4\",\n",
    "    139: \"layout_minor_to_major_5\"\n",
    "}"
   ]
  },
  {
   "cell_type": "code",
   "execution_count": 97,
   "id": "bfa9d256-68d6-4562-9a41-9a9e2168e962",
   "metadata": {},
   "outputs": [
    {
     "data": {
      "text/plain": [
       "array([0.000e+00, 0.000e+00, 0.000e+00, 0.000e+00, 0.000e+00, 0.000e+00,\n",
       "       0.000e+00, 0.000e+00, 0.000e+00, 0.000e+00, 0.000e+00, 0.000e+00,\n",
       "       0.000e+00, 0.000e+00, 0.000e+00, 1.000e+00, 0.000e+00, 0.000e+00,\n",
       "       0.000e+00, 0.000e+00, 0.000e+00, 4.000e+00, 2.500e+01, 2.500e+01,\n",
       "       1.024e+03, 0.000e+00, 0.000e+00, 1.078e+03, 2.560e+06, 0.000e+00,\n",
       "       2.000e+00, 0.000e+00, 0.000e+00, 0.000e+00, 0.000e+00, 0.000e+00,\n",
       "       0.000e+00, 0.000e+00, 0.000e+00, 0.000e+00, 0.000e+00, 0.000e+00,\n",
       "       0.000e+00, 0.000e+00, 1.000e+00, 0.000e+00, 0.000e+00, 0.000e+00,\n",
       "       0.000e+00, 0.000e+00, 0.000e+00, 0.000e+00, 1.000e+00, 0.000e+00,\n",
       "       0.000e+00, 0.000e+00, 0.000e+00, 0.000e+00, 0.000e+00, 0.000e+00,\n",
       "       1.000e+00, 0.000e+00, 0.000e+00, 0.000e+00, 0.000e+00, 0.000e+00,\n",
       "       0.000e+00, 0.000e+00, 1.000e+00, 0.000e+00, 0.000e+00, 0.000e+00,\n",
       "       0.000e+00, 0.000e+00, 0.000e+00, 0.000e+00, 1.000e+00, 0.000e+00,\n",
       "       0.000e+00, 0.000e+00, 0.000e+00, 0.000e+00, 0.000e+00, 0.000e+00,\n",
       "       1.000e+00, 0.000e+00, 0.000e+00, 0.000e+00, 0.000e+00, 0.000e+00,\n",
       "       0.000e+00, 0.000e+00, 0.000e+00, 0.000e+00, 0.000e+00, 0.000e+00,\n",
       "       0.000e+00, 0.000e+00, 0.000e+00, 0.000e+00, 0.000e+00, 0.000e+00,\n",
       "       0.000e+00, 0.000e+00, 0.000e+00, 0.000e+00, 0.000e+00, 0.000e+00,\n",
       "       0.000e+00, 0.000e+00, 0.000e+00, 0.000e+00, 1.000e+00, 0.000e+00,\n",
       "       0.000e+00, 0.000e+00, 1.000e+00, 0.000e+00, 0.000e+00, 0.000e+00,\n",
       "       1.000e+00, 0.000e+00, 0.000e+00, 0.000e+00, 1.000e+00, 0.000e+00,\n",
       "       0.000e+00, 0.000e+00, 1.000e+00, 0.000e+00, 0.000e+00, 0.000e+00,\n",
       "       1.000e+00, 0.000e+00, 3.000e+00, 0.000e+00, 2.000e+00, 1.000e+00,\n",
       "       0.000e+00, 0.000e+00], dtype=float32)"
      ]
     },
     "execution_count": 97,
     "metadata": {},
     "output_type": "execute_result"
    }
   ],
   "source": [
    "node_feats = example['node_feat']\n",
    "node_feats[-2]"
   ]
  },
  {
   "cell_type": "markdown",
   "id": "23cfa0ba-12d7-440b-bc96-101196a4c567",
   "metadata": {},
   "source": [
    "### Tile Config\n",
    "Let's now see instead the Tile configurations and what they mean. In this example we have 8935 different configurations just for this single graph, let's pick one of them and understand it's meaning."
   ]
  },
  {
   "cell_type": "code",
   "execution_count": 83,
   "id": "6d4a9da0-0ba2-48b7-bcc0-a412d631cf90",
   "metadata": {},
   "outputs": [
    {
     "data": {
      "text/plain": [
       "(8935, 24)"
      ]
     },
     "execution_count": 83,
     "metadata": {},
     "output_type": "execute_result"
    }
   ],
   "source": [
    "ex_configs = example['config_feat']\n",
    "\n",
    "ex_configs.shape"
   ]
  },
  {
   "cell_type": "code",
   "execution_count": null,
   "id": "093368a1-529a-4269-9855-633b0e27de75",
   "metadata": {},
   "outputs": [],
   "source": [
    "TILE_CONFIGS = {\n",
    "    # 0–7: Tile sizes of the convolution kernel, only for a convolution operation.\",\n",
    "    0: \"kernel_bounds_0\",\n",
    "    1: \"kernel_bounds_1\",\n",
    "    2: \"kernel_bounds_2\",\n",
    "    3: \"kernel_bounds_3\",\n",
    "    4: \"kernel_bounds_4\",\n",
    "    5: \"kernel_bounds_5\",\n",
    "    6: \"kernel_bounds_sum\",\n",
    "    7: \"kernel_bounds_product\",\n",
    "    # 8–15: Output tile sizes.\",\n",
    "    8: \"output_bounds_0\",\n",
    "    9: \"output_bounds_1\",\n",
    "    10: \"output_bounds_2\",\n",
    "    11: \"output_bounds_3\",\n",
    "    12: \"output_bounds_4\",\n",
    "    13: \"output_bounds_5\",\n",
    "    14: \"output_bounds_sum\",\n",
    "    15: \"output_bounds_product\",\n",
    "    # 16-23: Input tile sizes.\",\n",
    "    16: \"input_bounds_0\",\n",
    "    17: \"input_bounds_1\",\n",
    "    18: \"input_bounds_2\",\n",
    "    19: \"input_bounds_3\",\n",
    "    20: \"input_bounds_4\",\n",
    "    21: \"input_bounds_5\",\n",
    "    22: \"input_bounds_sum\",\n",
    "    23: \"input_bounds_product\"\n",
    "}"
   ]
  },
  {
   "cell_type": "code",
   "execution_count": 85,
   "id": "412004ed-bb35-4b92-a297-d3a463a522ff",
   "metadata": {},
   "outputs": [
    {
     "data": {
      "text/plain": [
       "array([ 25.,  25.,   1.,   1.,   0.,   0.,  52., 625.,   3.,   3.,  16.,\n",
       "         1.,   0.,   0.,  23., 144.,   0.,   0.,   0.,   0.,   0.,   0.,\n",
       "         0.,   0.], dtype=float32)"
      ]
     },
     "execution_count": 85,
     "metadata": {},
     "output_type": "execute_result"
    }
   ],
   "source": [
    "ex_configs[0]"
   ]
  },
  {
   "cell_type": "markdown",
   "id": "4d3d76a5-ba67-4a21-98cc-006d9e78c48d",
   "metadata": {},
   "source": [
    "I don't understand its meaning, or how we can interpret it."
   ]
  }
 ],
 "metadata": {
  "kernelspec": {
   "display_name": "Python 3 (ipykernel)",
   "language": "python",
   "name": "python3"
  },
  "language_info": {
   "codemirror_mode": {
    "name": "ipython",
    "version": 3
   },
   "file_extension": ".py",
   "mimetype": "text/x-python",
   "name": "python",
   "nbconvert_exporter": "python",
   "pygments_lexer": "ipython3",
   "version": "3.11.5"
  }
 },
 "nbformat": 4,
 "nbformat_minor": 5
}
